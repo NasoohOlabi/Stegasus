{
 "cells": [
  {
   "cell_type": "code",
   "execution_count": 1,
   "metadata": {},
   "outputs": [],
   "source": [
    "import pandas as pd"
   ]
  },
  {
   "cell_type": "code",
   "execution_count": 7,
   "metadata": {},
   "outputs": [],
   "source": [
    "import re"
   ]
  },
  {
   "cell_type": "code",
   "execution_count": 2,
   "metadata": {},
   "outputs": [],
   "source": [
    "df = pd.read_csv('topical_chat.csv')"
   ]
  },
  {
   "cell_type": "code",
   "execution_count": 7,
   "metadata": {},
   "outputs": [
    {
     "data": {
      "text/html": [
       "<div>\n",
       "<style scoped>\n",
       "    .dataframe tbody tr th:only-of-type {\n",
       "        vertical-align: middle;\n",
       "    }\n",
       "\n",
       "    .dataframe tbody tr th {\n",
       "        vertical-align: top;\n",
       "    }\n",
       "\n",
       "    .dataframe thead th {\n",
       "        text-align: right;\n",
       "    }\n",
       "</style>\n",
       "<table border=\"1\" class=\"dataframe\">\n",
       "  <thead>\n",
       "    <tr style=\"text-align: right;\">\n",
       "      <th></th>\n",
       "      <th>conversation_id</th>\n",
       "      <th>message</th>\n",
       "      <th>sentiment</th>\n",
       "    </tr>\n",
       "  </thead>\n",
       "  <tbody>\n",
       "    <tr>\n",
       "      <th>0</th>\n",
       "      <td>1</td>\n",
       "      <td>Are you a fan of Google or Microsoft?</td>\n",
       "      <td>Curious to dive deeper</td>\n",
       "    </tr>\n",
       "    <tr>\n",
       "      <th>1</th>\n",
       "      <td>1</td>\n",
       "      <td>Both are excellent technology they are helpfu...</td>\n",
       "      <td>Curious to dive deeper</td>\n",
       "    </tr>\n",
       "    <tr>\n",
       "      <th>2</th>\n",
       "      <td>1</td>\n",
       "      <td>I'm not  a huge fan of Google, but I use it a...</td>\n",
       "      <td>Curious to dive deeper</td>\n",
       "    </tr>\n",
       "    <tr>\n",
       "      <th>3</th>\n",
       "      <td>1</td>\n",
       "      <td>Google provides online related services and p...</td>\n",
       "      <td>Curious to dive deeper</td>\n",
       "    </tr>\n",
       "    <tr>\n",
       "      <th>4</th>\n",
       "      <td>1</td>\n",
       "      <td>Yeah, their services are good. I'm just not a...</td>\n",
       "      <td>Curious to dive deeper</td>\n",
       "    </tr>\n",
       "    <tr>\n",
       "      <th>...</th>\n",
       "      <td>...</td>\n",
       "      <td>...</td>\n",
       "      <td>...</td>\n",
       "    </tr>\n",
       "    <tr>\n",
       "      <th>188373</th>\n",
       "      <td>8628</td>\n",
       "      <td>Wow, it does not seem like that long. Since I...</td>\n",
       "      <td>Surprised</td>\n",
       "    </tr>\n",
       "    <tr>\n",
       "      <th>188374</th>\n",
       "      <td>8628</td>\n",
       "      <td>I havent seen that episode, I might google it...</td>\n",
       "      <td>Curious to dive deeper</td>\n",
       "    </tr>\n",
       "    <tr>\n",
       "      <th>188375</th>\n",
       "      <td>8628</td>\n",
       "      <td>I don't think I have either. That's an insane...</td>\n",
       "      <td>Curious to dive deeper</td>\n",
       "    </tr>\n",
       "    <tr>\n",
       "      <th>188376</th>\n",
       "      <td>8628</td>\n",
       "      <td>I did, my little brother used to love Thomas ...</td>\n",
       "      <td>Happy</td>\n",
       "    </tr>\n",
       "    <tr>\n",
       "      <th>188377</th>\n",
       "      <td>8628</td>\n",
       "      <td>It did. Ringo Starr, George Carlin, and Alec ...</td>\n",
       "      <td>Neutral</td>\n",
       "    </tr>\n",
       "  </tbody>\n",
       "</table>\n",
       "<p>188378 rows × 3 columns</p>\n",
       "</div>"
      ],
      "text/plain": [
       "        conversation_id                                            message  \\\n",
       "0                     1              Are you a fan of Google or Microsoft?   \n",
       "1                     1   Both are excellent technology they are helpfu...   \n",
       "2                     1   I'm not  a huge fan of Google, but I use it a...   \n",
       "3                     1   Google provides online related services and p...   \n",
       "4                     1   Yeah, their services are good. I'm just not a...   \n",
       "...                 ...                                                ...   \n",
       "188373             8628   Wow, it does not seem like that long. Since I...   \n",
       "188374             8628   I havent seen that episode, I might google it...   \n",
       "188375             8628   I don't think I have either. That's an insane...   \n",
       "188376             8628   I did, my little brother used to love Thomas ...   \n",
       "188377             8628   It did. Ringo Starr, George Carlin, and Alec ...   \n",
       "\n",
       "                      sentiment  \n",
       "0        Curious to dive deeper  \n",
       "1        Curious to dive deeper  \n",
       "2        Curious to dive deeper  \n",
       "3        Curious to dive deeper  \n",
       "4        Curious to dive deeper  \n",
       "...                         ...  \n",
       "188373                Surprised  \n",
       "188374   Curious to dive deeper  \n",
       "188375   Curious to dive deeper  \n",
       "188376                    Happy  \n",
       "188377                  Neutral  \n",
       "\n",
       "[188378 rows x 3 columns]"
      ]
     },
     "execution_count": 7,
     "metadata": {},
     "output_type": "execute_result"
    }
   ],
   "source": [
    "df"
   ]
  },
  {
   "cell_type": "code",
   "execution_count": 12,
   "metadata": {},
   "outputs": [
    {
     "data": {
      "text/plain": [
       "conversation_id\n",
       "1       [ Are you a fan of Google or Microsoft?,  Both...\n",
       "2       [ do you like dance?,  Yes  I do. Did you know...\n",
       "3       [ Hey what's up do use Google very often?I rea...\n",
       "4       [ Hi!  do you like to dance?,  I love to dance...\n",
       "5       [ do you like dance?,  I love it. Did you know...\n",
       "                              ...                        \n",
       "8624    [ Good Morning!,  Good morning. How are you? S...\n",
       "8625    [ Do you watch television at all? ,  I do. I l...\n",
       "8626    [ Do you watch a lot of TV?,  I do! I love gam...\n",
       "8627    [ Hi, how are you?,  Well thank you. Do you en...\n",
       "8628    [ Are you a fan of football by any chance?,  Y...\n",
       "Name: message, Length: 8628, dtype: object"
      ]
     },
     "execution_count": 12,
     "metadata": {},
     "output_type": "execute_result"
    }
   ],
   "source": [
    "df.groupby('conversation_id')['message'].agg(list)"
   ]
  },
  {
   "cell_type": "code",
   "execution_count": 46,
   "metadata": {},
   "outputs": [],
   "source": [
    "import os\n",
    "import random\n",
    "\n",
    "import pandas as pd\n",
    "import spacy\n",
    "from spellchecker import SpellChecker\n",
    "\n",
    "# Load SpaCy language model\n",
    "nlp = spacy.load(\"en_core_web_sm\")\n",
    "\n",
    "# Create a SpellChecker object\n",
    "spell = SpellChecker()\n",
    "\n",
    "def spell_check(text):\n",
    "    # Parse the text using SpaCy\n",
    "    correction = []\n",
    "    tokens = [((match.start(),match.end()),match.groups()[0]) for match in re.finditer(r'([a-zA-Z\\']+)',text)]\n",
    "    \n",
    "    lastSpanEnd = 0\n",
    "    for (s,e), token in tokens:\n",
    "      c = spell.correction(token)\n",
    "      correction.append(text[lastSpanEnd:s])\n",
    "      correction.append(c if c is not None else text[s:e])\n",
    "      lastSpanEnd = e\n",
    "    correction.append(text[lastSpanEnd:])\n",
    "    \n",
    "    return ''.join(correction)\n",
    "\n",
    "\n",
    "class ConversationsRepo:\n",
    "  ConversationsCount = 8628\n",
    "  chat_id = None\n",
    "  @staticmethod\n",
    "  def _get(i: int|None = None):\n",
    "    \"\"\"gets a chat from the Sample data\n",
    "\n",
    "    Args:\n",
    "        i (int): The number of the conversation [1, 8628]\n",
    "    \"\"\"\n",
    "    if i is None:\n",
    "      i = random.randint(1,ConversationsRepo.ConversationsCount)\n",
    "    if i < 1 or i > ConversationsRepo.ConversationsCount:\n",
    "      raise ValueError(i)\n",
    "    ConversationsRepo.chat_id = i\n",
    "    \n",
    "    # script_directory = os.path.dirname(os.path.abspath(__file__))\n",
    "    # file_path = os.path.join(script_directory, 'topical_chat.csv')\n",
    "    file_path = './topical_chat.csv'\n",
    "    \n",
    "    df = pd.read_csv(file_path)\n",
    "    chats = df.groupby('conversation_id')['message'].agg(list)\n",
    "    chat = chats[i]\n",
    "    chat = list(map(spell_check,chat))\n",
    "    return chat\n",
    "  @staticmethod\n",
    "  def get(i: int|None = None):\n",
    "    \"\"\"gets a chat from the Sample data\n",
    "\n",
    "    Args:\n",
    "        i (int): The number of the conversation [1, 8628]\n",
    "    \"\"\"\n",
    "    chat = list(map(spell_check,ConversationsRepo._get(i)))\n",
    "    return chat"
   ]
  },
  {
   "cell_type": "code",
   "execution_count": 9,
   "metadata": {},
   "outputs": [],
   "source": [
    "ex = \"\"\"I agree. Only the lichens and cyanobateria would be able to thrive on Mars anyway.\"\"\""
   ]
  },
  {
   "cell_type": "code",
   "execution_count": 20,
   "metadata": {},
   "outputs": [
    {
     "data": {
      "text/plain": [
       "[((0, 1), 'I'),\n",
       " ((2, 7), 'agree'),\n",
       " ((9, 13), 'Only'),\n",
       " ((14, 17), 'the'),\n",
       " ((18, 25), 'lichens'),\n",
       " ((26, 29), 'and'),\n",
       " ((30, 42), 'cyanobateria'),\n",
       " ((43, 48), 'would'),\n",
       " ((49, 51), 'be'),\n",
       " ((52, 56), 'able'),\n",
       " ((57, 59), 'to'),\n",
       " ((60, 66), 'thrive'),\n",
       " ((67, 69), 'on'),\n",
       " ((70, 74), 'Mars'),\n",
       " ((75, 81), 'anyway')]"
      ]
     },
     "execution_count": 20,
     "metadata": {},
     "output_type": "execute_result"
    }
   ],
   "source": [
    "[((match.start(),match.end()),match.groups()[0]) for match in re.finditer(r'([a-zA-Z]+)',ex)]"
   ]
  },
  {
   "cell_type": "code",
   "execution_count": 26,
   "metadata": {},
   "outputs": [],
   "source": [
    "import difflib"
   ]
  },
  {
   "cell_type": "code",
   "execution_count": 32,
   "metadata": {},
   "outputs": [
    {
     "data": {
      "text/plain": [
       "'I agree. Only the lichens and cyanobateria would be able to thrive on Mars anyway.'"
      ]
     },
     "execution_count": 32,
     "metadata": {},
     "output_type": "execute_result"
    }
   ],
   "source": [
    "ex"
   ]
  },
  {
   "cell_type": "code",
   "execution_count": 33,
   "metadata": {},
   "outputs": [
    {
     "data": {
      "text/plain": [
       "'I agree. Only the lichens and cyanobacteria would be able to thrive on Mars anyway.'"
      ]
     },
     "execution_count": 33,
     "metadata": {},
     "output_type": "execute_result"
    }
   ],
   "source": [
    "spell_check(ex)"
   ]
  },
  {
   "cell_type": "code",
   "execution_count": 31,
   "metadata": {},
   "outputs": [
    {
     "data": {
      "text/plain": [
       "['  I',\n",
       " '  agree.',\n",
       " '  Only',\n",
       " '  the',\n",
       " '  lichens',\n",
       " '  and',\n",
       " '- cyanobateria',\n",
       " '+ cyanobacteria',\n",
       " '?        +\\n',\n",
       " '  would',\n",
       " '  be',\n",
       " '  able',\n",
       " '  to',\n",
       " '  thrive',\n",
       " '  on',\n",
       " '  Mars',\n",
       " '  anyway.']"
      ]
     },
     "execution_count": 31,
     "metadata": {},
     "output_type": "execute_result"
    }
   ],
   "source": [
    "[x for x in difflib.ndiff(ex.split(' '),spell_check(ex).split(' '))]"
   ]
  },
  {
   "cell_type": "code",
   "execution_count": 69,
   "metadata": {},
   "outputs": [
    {
     "name": "stdout",
     "output_type": "stream",
     "text": [
      "1541\n",
      "   Good morning, how are you doing today?\n",
      "   Fine. Reading is the complex cognitive process of decoding symbols to derive meaning.\n",
      "   I really like reading. Did you know that Starship Troopers is on the reading list of 3/5i of the US Military Branches? \n",
      "   Its amazing. Now days reading is much reduced. People engaged in social media.\n",
      "   Technology has made me read me more. It's more convenient to use my phone and read.\n",
      "   Teenager mainly focused on social media. They don't read books and novel or newspaper.\n",
      "   Yeah that is true. Did you know that is Lewis and token held \"you laugh you lose\" competitions when reading terrible poetry.\n",
      "   There was \"Moral panic\" because of the spread of the reading of novels.\n",
      "   It seems there's always been a fear of people gaining knowledge.\n",
      "   elder's game was suggested reading for many military organizations, including the united states marine corps.\n",
      "   I really liked that book. Did you know that the FDA burned six tons of literature in an act of US Censorship? That's crazy!\n",
      "   In 1953 Sir winston churchill won nobel prize and it was in literature.\n",
      "   That's pretty cool. I heard that Architecture, literature, music, painting and sculpture were Olympic events from 1912 until 1952.\n",
      "   Developments in print technology have allowed an ever-growing distribution and proliferation of written works, culminating in electronic literature.\n",
      "   That's kind of neat. There is an annual literature contest that challenges writers to come up with the worst possible opening sentence to a novel.\n",
      "   Literature, is any body of written works. Its used to depth of the knowledge and culture and people living its very interesting.\n",
      "   It was nice chatting with you.\n",
      "   Thanks\n",
      "   Have a good day.\n",
      "   There are more libraries than mcdonald's in the united states.\n",
      "   that's neat\n"
     ]
    }
   ],
   "source": [
    "raw = ConversationsRepo._get(1541)\n",
    "chat_id = ConversationsRepo.chat_id\n",
    "corrected = ConversationsRepo.get(chat_id)\n",
    "print(chat_id)\n",
    "for x in difflib.ndiff(raw,corrected):\n",
    "  print(x)"
   ]
  }
 ],
 "metadata": {
  "kernelspec": {
   "display_name": "Python 3",
   "language": "python",
   "name": "python3"
  },
  "language_info": {
   "codemirror_mode": {
    "name": "ipython",
    "version": 3
   },
   "file_extension": ".py",
   "mimetype": "text/x-python",
   "name": "python",
   "nbconvert_exporter": "python",
   "pygments_lexer": "ipython3",
   "version": "3.11.4"
  },
  "orig_nbformat": 4
 },
 "nbformat": 4,
 "nbformat_minor": 2
}
